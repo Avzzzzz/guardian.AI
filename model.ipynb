{
 "cells": [
  {
   "cell_type": "code",
   "execution_count": null,
   "metadata": {},
   "outputs": [],
   "source": [
    "import torch\n",
    "import torch.nn as nn\n",
    "class Bottleneck(nn.Module):\n",
    "def __init__(self, in_channels, growth_rate):\n",
    "super().__init__()\n",
    "inner_channel = 4 * growth_rate\n",
    "self.bottle_neck = nn.Sequential(\n",
    "nn.BatchNorm2d(in_channels),\n",
    "nn.ReLU(inplace=True),\n",
    "nn.Conv2d(in_channels, inner_channel, kernel_size=1, bias=False),\n",
    "nn.BatchNorm2d(inner_channel),\n",
    "nn.ReLU(inplace=True),\n",
    "nn.Conv2d(inner_channel, growth_rate, kernel_size=3, padding=1, bias=False)\n",
    ")\n",
    "def forward(self, x):\n",
    "return torch.cat([x, self.bottle_neck(x)], 1)"
   ]
  }
 ],
 "metadata": {
  "kernelspec": {
   "display_name": "project",
   "language": "python",
   "name": "python3"
  },
  "language_info": {
   "name": "python",
   "version": "3.12.5"
  }
 },
 "nbformat": 4,
 "nbformat_minor": 2
}
